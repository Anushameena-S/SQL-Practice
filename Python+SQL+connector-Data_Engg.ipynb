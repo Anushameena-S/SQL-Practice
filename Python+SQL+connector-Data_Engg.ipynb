{
 "cells": [
  {
   "cell_type": "code",
   "execution_count": 1,
   "metadata": {
    "id": "edxXOporC6jS"
   },
   "outputs": [
    {
     "name": "stdout",
     "output_type": "stream",
     "text": [
      "Collecting PyMySQL\n",
      "  Downloading PyMySQL-1.1.0-py3-none-any.whl.metadata (4.4 kB)\n",
      "Downloading PyMySQL-1.1.0-py3-none-any.whl (44 kB)\n",
      "   ---------------------------------------- 0.0/44.8 kB ? eta -:--:--\n",
      "   --------- ------------------------------ 10.2/44.8 kB ? eta -:--:--\n",
      "   ------------------ --------------------- 20.5/44.8 kB 217.9 kB/s eta 0:00:01\n",
      "   ------------------------------------ --- 41.0/44.8 kB 326.8 kB/s eta 0:00:01\n",
      "   ---------------------------------------- 44.8/44.8 kB 276.2 kB/s eta 0:00:00\n",
      "Installing collected packages: PyMySQL\n",
      "Successfully installed PyMySQL-1.1.0\n"
     ]
    }
   ],
   "source": [
    "!pip install PyMySQL"
   ]
  },
  {
   "cell_type": "code",
   "execution_count": 1,
   "metadata": {
    "id": "-pDPZP8kC6jV"
   },
   "outputs": [],
   "source": [
    "import pymysql"
   ]
  },
  {
   "cell_type": "code",
   "execution_count": 2,
   "metadata": {
    "id": "LS9B27mWC6jV"
   },
   "outputs": [],
   "source": [
    "myConnection = pymysql.connect( host='localhost', \n",
    "                               user='root', \n",
    "                               passwd='Admin@1234',\n",
    "                               db='hr_emp' )"
   ]
  },
  {
   "cell_type": "code",
   "execution_count": 3,
   "metadata": {
    "id": "K7WlylrxC6jW"
   },
   "outputs": [],
   "source": [
    "cur = myConnection.cursor()"
   ]
  },
  {
   "cell_type": "code",
   "execution_count": 4,
   "metadata": {
    "id": "MbW1fEnuC6jW",
    "outputId": "6a461ccf-0ad9-4bc2-8e46-bdfb47dfef6e"
   },
   "outputs": [
    {
     "name": "stdout",
     "output_type": "stream",
     "text": [
      "((1, 'Aman', 'Sharma', 'ASHARMA', '715.234.4577', datetime.date(1977, 6, 16), 'AD_VP', Decimal('34000.00'), None, 20, 50), (3, 'Laxman', 'Dubey', 'LDUBEY', '915.173.8969', datetime.date(1983, 1, 23), 'AD_VP', Decimal('28000.00'), None, 20, 50))\n"
     ]
    }
   ],
   "source": [
    "cur.execute(\"SELECT * FROM employees where manager_id = 20\")\n",
    "myresult = cur.fetchall()  \n",
    "print(myresult)"
   ]
  },
  {
   "cell_type": "code",
   "execution_count": 5,
   "metadata": {
    "id": "PQZujPBMC6jY",
    "outputId": "b9a2216f-1c56-41af-954d-a011e0a767b3"
   },
   "outputs": [
    {
     "data": {
      "text/plain": [
       "((1, 'Aman', 'Sharma', 50, Decimal('34000.00'), 'Shipping'),\n",
       " (2, 'Gopi', 'Kumar', 50, Decimal('29000.00'), 'Shipping'),\n",
       " (3, 'Laxman', 'Dubey', 50, Decimal('28000.00'), 'Shipping'),\n",
       " (4, 'Abhishek', 'Sharma', 70, Decimal('15000.00'), 'Public Relations'),\n",
       " (5, 'Bhuvan', 'Bhosle', 70, Decimal('13000.00'), 'Public Relations'))"
      ]
     },
     "execution_count": 5,
     "metadata": {},
     "output_type": "execute_result"
    }
   ],
   "source": [
    "cur.execute(\"select e.employee_id, e.first_name, e.last_name, e.department_id,e.salary, d.department_name \\\n",
    "            from employees e inner join departments d \\\n",
    "            on e.department_id = d.department_id;\")\n",
    "cur.fetchmany(5)"
   ]
  },
  {
   "cell_type": "code",
   "execution_count": 6,
   "metadata": {
    "id": "yXBa5QkpC6jZ"
   },
   "outputs": [],
   "source": [
    "import pandas as pd"
   ]
  },
  {
   "cell_type": "code",
   "execution_count": 7,
   "metadata": {
    "id": "sAz_y8t4C6jZ"
   },
   "outputs": [
    {
     "name": "stderr",
     "output_type": "stream",
     "text": [
      "C:\\Users\\Anusha\\AppData\\Local\\Temp\\ipykernel_5980\\2874401175.py:1: UserWarning: pandas only supports SQLAlchemy connectable (engine/connection) or database string URI or sqlite3 DBAPI2 connection. Other DBAPI2 objects are not tested. Please consider using SQLAlchemy.\n",
      "  SQL_Query = pd.read_sql_query('SELECT * FROM employees where manager_id = 20', myConnection)\n"
     ]
    }
   ],
   "source": [
    "SQL_Query = pd.read_sql_query('SELECT * FROM employees where manager_id = 20', myConnection)"
   ]
  },
  {
   "cell_type": "code",
   "execution_count": 13,
   "metadata": {
    "id": "Ea3QjZnXC6ja",
    "outputId": "bca593f3-6d34-4681-c1d2-3f633c7e1586"
   },
   "outputs": [
    {
     "data": {
      "text/plain": [
       "pandas.core.frame.DataFrame"
      ]
     },
     "execution_count": 13,
     "metadata": {},
     "output_type": "execute_result"
    }
   ],
   "source": [
    "type(SQL_Query)"
   ]
  },
  {
   "cell_type": "code",
   "execution_count": 8,
   "metadata": {
    "id": "k5-qhQVEC6ja"
   },
   "outputs": [
    {
     "name": "stderr",
     "output_type": "stream",
     "text": [
      "C:\\Users\\Anusha\\AppData\\Local\\Temp\\ipykernel_5980\\695234650.py:1: UserWarning: pandas only supports SQLAlchemy connectable (engine/connection) or database string URI or sqlite3 DBAPI2 connection. Other DBAPI2 objects are not tested. Please consider using SQLAlchemy.\n",
      "  SQL_Query1 = pd.read_sql_query(\"select e.employee_id, e.first_name, e.last_name, e.department_id, d.department_name \\\n"
     ]
    }
   ],
   "source": [
    "SQL_Query1 = pd.read_sql_query(\"select e.employee_id, e.first_name, e.last_name, e.department_id, d.department_name \\\n",
    "            from employees e inner join departments d \\\n",
    "            on e.department_id = d.department_id\", myConnection)"
   ]
  },
  {
   "cell_type": "code",
   "execution_count": 10,
   "metadata": {
    "id": "XWiz4PoyC6jb",
    "outputId": "3155176a-c9e7-44ee-d1c2-83f34d5f1143"
   },
   "outputs": [
    {
     "data": {
      "text/html": [
       "<div>\n",
       "<style scoped>\n",
       "    .dataframe tbody tr th:only-of-type {\n",
       "        vertical-align: middle;\n",
       "    }\n",
       "\n",
       "    .dataframe tbody tr th {\n",
       "        vertical-align: top;\n",
       "    }\n",
       "\n",
       "    .dataframe thead th {\n",
       "        text-align: right;\n",
       "    }\n",
       "</style>\n",
       "<table border=\"1\" class=\"dataframe\">\n",
       "  <thead>\n",
       "    <tr style=\"text-align: right;\">\n",
       "      <th></th>\n",
       "      <th>employee_id</th>\n",
       "      <th>first_name</th>\n",
       "      <th>last_name</th>\n",
       "      <th>department_id</th>\n",
       "      <th>department_name</th>\n",
       "    </tr>\n",
       "  </thead>\n",
       "  <tbody>\n",
       "    <tr>\n",
       "      <th>0</th>\n",
       "      <td>1</td>\n",
       "      <td>Aman</td>\n",
       "      <td>Sharma</td>\n",
       "      <td>50</td>\n",
       "      <td>Shipping</td>\n",
       "    </tr>\n",
       "    <tr>\n",
       "      <th>1</th>\n",
       "      <td>2</td>\n",
       "      <td>Gopi</td>\n",
       "      <td>Kumar</td>\n",
       "      <td>50</td>\n",
       "      <td>Shipping</td>\n",
       "    </tr>\n",
       "    <tr>\n",
       "      <th>2</th>\n",
       "      <td>3</td>\n",
       "      <td>Laxman</td>\n",
       "      <td>Dubey</td>\n",
       "      <td>50</td>\n",
       "      <td>Shipping</td>\n",
       "    </tr>\n",
       "    <tr>\n",
       "      <th>3</th>\n",
       "      <td>4</td>\n",
       "      <td>Abhishek</td>\n",
       "      <td>Sharma</td>\n",
       "      <td>70</td>\n",
       "      <td>Public Relations</td>\n",
       "    </tr>\n",
       "    <tr>\n",
       "      <th>4</th>\n",
       "      <td>5</td>\n",
       "      <td>Bhuvan</td>\n",
       "      <td>Bhosle</td>\n",
       "      <td>70</td>\n",
       "      <td>Public Relations</td>\n",
       "    </tr>\n",
       "    <tr>\n",
       "      <th>5</th>\n",
       "      <td>6</td>\n",
       "      <td>Danny</td>\n",
       "      <td>Devgan</td>\n",
       "      <td>70</td>\n",
       "      <td>Public Relations</td>\n",
       "    </tr>\n",
       "    <tr>\n",
       "      <th>6</th>\n",
       "      <td>7</td>\n",
       "      <td>Velur</td>\n",
       "      <td>Patel</td>\n",
       "      <td>70</td>\n",
       "      <td>Public Relations</td>\n",
       "    </tr>\n",
       "    <tr>\n",
       "      <th>7</th>\n",
       "      <td>8</td>\n",
       "      <td>Akshay</td>\n",
       "      <td>Upadhyay</td>\n",
       "      <td>70</td>\n",
       "      <td>Public Relations</td>\n",
       "    </tr>\n",
       "    <tr>\n",
       "      <th>8</th>\n",
       "      <td>9</td>\n",
       "      <td>Nitin</td>\n",
       "      <td>Gautam</td>\n",
       "      <td>10</td>\n",
       "      <td>Administration</td>\n",
       "    </tr>\n",
       "    <tr>\n",
       "      <th>9</th>\n",
       "      <td>10</td>\n",
       "      <td>Abhishek</td>\n",
       "      <td>Fandnavis</td>\n",
       "      <td>10</td>\n",
       "      <td>Administration</td>\n",
       "    </tr>\n",
       "    <tr>\n",
       "      <th>10</th>\n",
       "      <td>11</td>\n",
       "      <td>Jack</td>\n",
       "      <td>Carle</td>\n",
       "      <td>10</td>\n",
       "      <td>Administration</td>\n",
       "    </tr>\n",
       "    <tr>\n",
       "      <th>11</th>\n",
       "      <td>12</td>\n",
       "      <td>Ishan</td>\n",
       "      <td>Malik</td>\n",
       "      <td>10</td>\n",
       "      <td>Administration</td>\n",
       "    </tr>\n",
       "    <tr>\n",
       "      <th>12</th>\n",
       "      <td>13</td>\n",
       "      <td>Usmaan</td>\n",
       "      <td>Sheikh</td>\n",
       "      <td>10</td>\n",
       "      <td>Administration</td>\n",
       "    </tr>\n",
       "    <tr>\n",
       "      <th>13</th>\n",
       "      <td>14</td>\n",
       "      <td>Lohan</td>\n",
       "      <td>Kumar</td>\n",
       "      <td>10</td>\n",
       "      <td>Administration</td>\n",
       "    </tr>\n",
       "  </tbody>\n",
       "</table>\n",
       "</div>"
      ],
      "text/plain": [
       "    employee_id first_name  last_name  department_id   department_name\n",
       "0             1       Aman     Sharma             50          Shipping\n",
       "1             2       Gopi      Kumar             50          Shipping\n",
       "2             3     Laxman      Dubey             50          Shipping\n",
       "3             4   Abhishek     Sharma             70  Public Relations\n",
       "4             5     Bhuvan     Bhosle             70  Public Relations\n",
       "5             6      Danny     Devgan             70  Public Relations\n",
       "6             7      Velur      Patel             70  Public Relations\n",
       "7             8     Akshay   Upadhyay             70  Public Relations\n",
       "8             9      Nitin     Gautam             10    Administration\n",
       "9            10   Abhishek  Fandnavis             10    Administration\n",
       "10           11       Jack      Carle             10    Administration\n",
       "11           12      Ishan      Malik             10    Administration\n",
       "12           13     Usmaan     Sheikh             10    Administration\n",
       "13           14      Lohan      Kumar             10    Administration"
      ]
     },
     "execution_count": 10,
     "metadata": {},
     "output_type": "execute_result"
    }
   ],
   "source": [
    "SQL_Query1"
   ]
  },
  {
   "cell_type": "code",
   "execution_count": 11,
   "metadata": {
    "id": "TO36s5z0C6jb"
   },
   "outputs": [],
   "source": [
    "myConnection.close()"
   ]
  },
  {
   "cell_type": "code",
   "execution_count": null,
   "metadata": {
    "id": "fiQq0ghpC6jb"
   },
   "outputs": [],
   "source": []
  },
  {
   "cell_type": "code",
   "execution_count": null,
   "metadata": {
    "id": "TA1DAhLvC6jb"
   },
   "outputs": [],
   "source": []
  }
 ],
 "metadata": {
  "colab": {
   "name": "Python SQL connector-Data_Engg.ipynb",
   "provenance": []
  },
  "kernelspec": {
   "display_name": "Python 3 (ipykernel)",
   "language": "python",
   "name": "python3"
  },
  "language_info": {
   "codemirror_mode": {
    "name": "ipython",
    "version": 3
   },
   "file_extension": ".py",
   "mimetype": "text/x-python",
   "name": "python",
   "nbconvert_exporter": "python",
   "pygments_lexer": "ipython3",
   "version": "3.11.7"
  }
 },
 "nbformat": 4,
 "nbformat_minor": 4
}
